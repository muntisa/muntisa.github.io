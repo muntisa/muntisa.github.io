{
 "cells": [
  {
   "cell_type": "markdown",
   "metadata": {},
   "source": [
    "# Create dynamic table for Top 50 interactions for COAD"
   ]
  },
  {
   "cell_type": "code",
   "execution_count": null,
   "metadata": {},
   "outputs": [],
   "source": [
    "import ipywidgets as widgets\n",
    "from ipywidgets import interact, interact_manual\n",
    "import pandas as pd\n",
    "import numpy as np"
   ]
  },
  {
   "cell_type": "code",
   "execution_count": null,
   "metadata": {},
   "outputs": [],
   "source": [
    "# get data\n",
    "database = \"../db/dbCOAD-DRD.csv\""
   ]
  },
  {
   "cell_type": "code",
   "execution_count": null,
   "metadata": {},
   "outputs": [],
   "source": [
    "df = pd.read_csv(database)\n",
    "df"
   ]
  },
  {
   "cell_type": "code",
   "execution_count": null,
   "metadata": {},
   "outputs": [],
   "source": [
    "# order by AE and get only AE < -8.5 kcal/mol\n",
    "df_repurposing = df[df['AE']<=-8.5]\n",
    "\n",
    "# get only the best 50 interactions\n",
    "df_repurposing = df_repurposing.head(50) \n",
    "\n",
    "# use other order of columns\n",
    "df_repurposing = df_repurposing[['AE', 'HGNC_symbol', 'DrugName', 'ProteinID', 'DrugCID', 'Drug']]\n",
    "df_repurposing"
   ]
  },
  {
   "cell_type": "markdown",
   "metadata": {},
   "source": [
    "From 23272 interactions (pairs of PDB - compound), we selected only the best 50 interactions with AE < -8.5 kcal/mol."
   ]
  },
  {
   "cell_type": "code",
   "execution_count": null,
   "metadata": {},
   "outputs": [],
   "source": [
    "# data export to HTML\n",
    "print(df_repurposing.to_html())"
   ]
  },
  {
   "cell_type": "code",
   "execution_count": null,
   "metadata": {},
   "outputs": [],
   "source": [
    "# saving as HTML file the same result\n",
    "fout = open(\"../extras/top50_table.html\",\"w\")\n",
    "fout.write(df_repurposing.to_html(index=False))\n",
    "fout.close() "
   ]
  },
  {
   "cell_type": "code",
   "execution_count": null,
   "metadata": {},
   "outputs": [],
   "source": [
    "# counting the elements\n",
    "print('No of genes:', len(list(set(df_repurposing['HGNC_symbol']))))\n",
    "print('No of PDBs:', len(list(set(df_repurposing['ProteinID']))))\n",
    "print('No of drug names:', len(list(set(df_repurposing['DrugName']))))\n",
    "print('No of drug compounds:', len(list(set(df_repurposing['DrugCID']))))"
   ]
  },
  {
   "cell_type": "code",
   "execution_count": null,
   "metadata": {},
   "outputs": [],
   "source": [
    "# save dataset with Top50\n",
    "df_repurposing.to_csv(\"../db/dbCOAD-DRD_Top50.csv\", index=False)"
   ]
  },
  {
   "cell_type": "code",
   "execution_count": null,
   "metadata": {},
   "outputs": [],
   "source": []
  }
 ],
 "metadata": {
  "kernelspec": {
   "display_name": "Python 3",
   "language": "python",
   "name": "python3"
  },
  "language_info": {
   "codemirror_mode": {
    "name": "ipython",
    "version": 3
   },
   "file_extension": ".py",
   "mimetype": "text/x-python",
   "name": "python",
   "nbconvert_exporter": "python",
   "pygments_lexer": "ipython3",
   "version": "3.7.6"
  }
 },
 "nbformat": 4,
 "nbformat_minor": 4
}
