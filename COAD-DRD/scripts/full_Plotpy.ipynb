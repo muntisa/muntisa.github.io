{
 "cells": [
  {
   "cell_type": "markdown",
   "metadata": {},
   "source": [
    "# Create dynamic plots for COAD"
   ]
  },
  {
   "cell_type": "code",
   "execution_count": null,
   "metadata": {},
   "outputs": [],
   "source": [
    "import plotly.express as px\n",
    "import pandas as pd"
   ]
  },
  {
   "cell_type": "code",
   "execution_count": null,
   "metadata": {},
   "outputs": [],
   "source": [
    "# get data\n",
    "database = \"../db/dbCOAD-DRD.csv\""
   ]
  },
  {
   "cell_type": "code",
   "execution_count": null,
   "metadata": {},
   "outputs": [],
   "source": [
    "df = pd.read_csv(database)\n",
    "df"
   ]
  },
  {
   "cell_type": "code",
   "execution_count": null,
   "metadata": {},
   "outputs": [],
   "source": [
    "df.columns"
   ]
  },
  {
   "cell_type": "code",
   "execution_count": null,
   "metadata": {},
   "outputs": [],
   "source": [
    "# by Gene\n",
    "fig1 = px.box(df, x=\"HGNC_symbol\", y=\"AE\", points=\"all\",\n",
    "             hover_data=[\"ProteinID\",\"Drug\"],\n",
    "             notched=True, # used notched shape\n",
    "             \n",
    "            )\n",
    "\n",
    "fig1.update_layout(\n",
    "    title=\"All docking affinity energies by COAD genes\",\n",
    "    xaxis_title=\"Gene target\",\n",
    "    yaxis_title=\"Affinity Energy (AE, kcal/mol)\",\n",
    "    yaxis=dict(autorange='reversed'),\n",
    "    font=dict(\n",
    "        family=\"Courier New, monospace\",\n",
    "        size=14,\n",
    "        color=\"#7f7f7f\"\n",
    "    )\n",
    ")\n",
    "    \n",
    "fig1.show()"
   ]
  },
  {
   "cell_type": "code",
   "execution_count": null,
   "metadata": {},
   "outputs": [],
   "source": [
    "import plotly\n",
    "plotly.offline.plot(fig1, filename='../extras/full_byGene.html', auto_open=False)"
   ]
  },
  {
   "cell_type": "code",
   "execution_count": null,
   "metadata": {},
   "outputs": [],
   "source": [
    "# by Drug Name\n",
    "import plotly.express as px\n",
    "fig2 = px.scatter(df, x=\"DrugName\", y=\"AE\", color=\"HGNC_symbol\",\n",
    "                  hover_data=[\"DrugCID\",\"ProteinID\"])\n",
    "\n",
    "fig2.update_layout(\n",
    "    title=\"All interactions by Drug Name for COAD\",\n",
    "    xaxis_title=\"Drug name\",\n",
    "    yaxis=dict(autorange='reversed'),\n",
    "    yaxis_title=\"Affinity Energy (AE, kcal/mol)\",\n",
    "    font=dict(\n",
    "        family=\"Courier New, monospace\",\n",
    "        size=10,\n",
    "        color=\"#7f7f7f\"\n",
    "    )\n",
    ")\n",
    "\n",
    "fig2.show()"
   ]
  },
  {
   "cell_type": "code",
   "execution_count": null,
   "metadata": {},
   "outputs": [],
   "source": [
    "import plotly\n",
    "plotly.offline.plot(fig2, filename='../extras/full_byDrugName.html', auto_open=False)"
   ]
  },
  {
   "cell_type": "code",
   "execution_count": null,
   "metadata": {},
   "outputs": [],
   "source": [
    "# by PDBid  (['AE', 'HGNC_symbol', 'DrugName', 'ProteinID', 'DrugCID', 'Drug'])\n",
    "fig3 = px.box(df, x=\"ProteinID\", y=\"AE\",\n",
    "             hover_data=[\"HGNC_symbol\",\"Drug\"],\n",
    "             notched=True, # used notched shape\n",
    "             \n",
    "            )\n",
    "\n",
    "fig3.update_layout(\n",
    "    title=\"All docking affinity energies by PDB IDs for COAD\",\n",
    "    xaxis_title=\"PDB target\",\n",
    "    yaxis_title=\"Affinity Energy (AE, kcal/mol)\",\n",
    "    yaxis=dict(autorange='reversed'),\n",
    "    font=dict(\n",
    "        family=\"Courier New, monospace\",\n",
    "        size=12,\n",
    "        color=\"#7f7f7f\"\n",
    "    )\n",
    ")\n",
    "    \n",
    "fig3.show()"
   ]
  },
  {
   "cell_type": "code",
   "execution_count": null,
   "metadata": {},
   "outputs": [],
   "source": [
    "import plotly\n",
    "plotly.offline.plot(fig3, filename='../extras/full_byPDB.html', auto_open=False)"
   ]
  },
  {
   "cell_type": "code",
   "execution_count": null,
   "metadata": {},
   "outputs": [],
   "source": [
    "# by Drug compound\n",
    "import plotly.express as px\n",
    "fig4 = px.scatter(df, x=\"Drug\", y=\"AE\", color=\"HGNC_symbol\",\n",
    "                  hover_data=[\"DrugName\",\"ProteinID\"])\n",
    "\n",
    "fig4.update_layout(\n",
    "    title=\"All interactions by Compound for COAD\",\n",
    "    xaxis_title=\"Drug name\",\n",
    "    yaxis=dict(autorange='reversed'),\n",
    "    yaxis_title=\"Affinity Energy (AE, kcal/mol)\",\n",
    "    font=dict(\n",
    "        family=\"Courier New, monospace\",\n",
    "        size=10,\n",
    "        color=\"#7f7f7f\"\n",
    "    )\n",
    ")\n",
    "\n",
    "fig4.show()"
   ]
  },
  {
   "cell_type": "code",
   "execution_count": null,
   "metadata": {},
   "outputs": [],
   "source": [
    "import plotly\n",
    "plotly.offline.plot(fig4, filename='../extras/full_byCompound.html', auto_open=False)"
   ]
  },
  {
   "cell_type": "code",
   "execution_count": null,
   "metadata": {},
   "outputs": [],
   "source": [
    "df.columns"
   ]
  },
  {
   "cell_type": "code",
   "execution_count": null,
   "metadata": {},
   "outputs": [],
   "source": [
    "# by Drug\n",
    "fig5 = px.box(df, x=\"DrugName\", y=\"AE\",\n",
    "             hover_data=[\"ProteinID\",\"HGNC_symbol\"],\n",
    "             notched=True, # used notched shape\n",
    "             \n",
    "            )\n",
    "\n",
    "fig5.update_layout(\n",
    "    title=\"All docking affinity energies by drug for COAD\",\n",
    "    xaxis_title=\"Gene target\",\n",
    "    yaxis_title=\"Affinity Energy (AE, kcal/mol)\",\n",
    "    yaxis=dict(autorange='reversed'),\n",
    "    font=dict(\n",
    "        family=\"Courier New, monospace\",\n",
    "        size=14,\n",
    "        color=\"#7f7f7f\"\n",
    "    )\n",
    ")\n",
    "    \n",
    "fig5.show()"
   ]
  },
  {
   "cell_type": "code",
   "execution_count": null,
   "metadata": {},
   "outputs": [],
   "source": [
    "import plotly\n",
    "plotly.offline.plot(fig5, filename='../extras/full_byDrugNameStats.html', auto_open=False)"
   ]
  },
  {
   "cell_type": "code",
   "execution_count": null,
   "metadata": {},
   "outputs": [],
   "source": []
  }
 ],
 "metadata": {
  "kernelspec": {
   "display_name": "Python 3",
   "language": "python",
   "name": "python3"
  },
  "language_info": {
   "codemirror_mode": {
    "name": "ipython",
    "version": 3
   },
   "file_extension": ".py",
   "mimetype": "text/x-python",
   "name": "python",
   "nbconvert_exporter": "python",
   "pygments_lexer": "ipython3",
   "version": "3.7.6"
  }
 },
 "nbformat": 4,
 "nbformat_minor": 2
}
