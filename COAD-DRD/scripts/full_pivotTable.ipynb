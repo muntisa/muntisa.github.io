{
 "cells": [
  {
   "cell_type": "markdown",
   "metadata": {},
   "source": [
    "# Pivot table with dynamic plots for COAD"
   ]
  },
  {
   "cell_type": "code",
   "execution_count": 1,
   "metadata": {},
   "outputs": [],
   "source": [
    "import pandas as pd\n",
    "import numpy as np\n",
    "from pivottablejs import pivot_ui"
   ]
  },
  {
   "cell_type": "code",
   "execution_count": 2,
   "metadata": {},
   "outputs": [],
   "source": [
    "# get data\n",
    "database = \"../db/dbCOAD-DRD.csv\""
   ]
  },
  {
   "cell_type": "code",
   "execution_count": 3,
   "metadata": {},
   "outputs": [
    {
     "data": {
      "text/html": [
       "<div>\n",
       "<style scoped>\n",
       "    .dataframe tbody tr th:only-of-type {\n",
       "        vertical-align: middle;\n",
       "    }\n",
       "\n",
       "    .dataframe tbody tr th {\n",
       "        vertical-align: top;\n",
       "    }\n",
       "\n",
       "    .dataframe thead th {\n",
       "        text-align: right;\n",
       "    }\n",
       "</style>\n",
       "<table border=\"1\" class=\"dataframe\">\n",
       "  <thead>\n",
       "    <tr style=\"text-align: right;\">\n",
       "      <th></th>\n",
       "      <th>HGNC_symbol</th>\n",
       "      <th>ProteinID</th>\n",
       "      <th>DrugName</th>\n",
       "      <th>DrugCID</th>\n",
       "      <th>Drug</th>\n",
       "      <th>AE</th>\n",
       "    </tr>\n",
       "  </thead>\n",
       "  <tbody>\n",
       "    <tr>\n",
       "      <th>0</th>\n",
       "      <td>GLTP</td>\n",
       "      <td>3s0i</td>\n",
       "      <td>nilotinib</td>\n",
       "      <td>644241</td>\n",
       "      <td>nilotinib-644241</td>\n",
       "      <td>-13.7</td>\n",
       "    </tr>\n",
       "    <tr>\n",
       "      <th>1</th>\n",
       "      <td>GLTP</td>\n",
       "      <td>4gjq</td>\n",
       "      <td>venetoclax</td>\n",
       "      <td>49846579</td>\n",
       "      <td>venetoclax-49846579</td>\n",
       "      <td>-13.4</td>\n",
       "    </tr>\n",
       "    <tr>\n",
       "      <th>2</th>\n",
       "      <td>GLTP</td>\n",
       "      <td>2evs</td>\n",
       "      <td>sonidegib</td>\n",
       "      <td>24775005</td>\n",
       "      <td>sonidegib-24775005</td>\n",
       "      <td>-13.2</td>\n",
       "    </tr>\n",
       "    <tr>\n",
       "      <th>3</th>\n",
       "      <td>GLTP</td>\n",
       "      <td>2evt</td>\n",
       "      <td>nilotinib</td>\n",
       "      <td>644241</td>\n",
       "      <td>nilotinib-644241</td>\n",
       "      <td>-13.2</td>\n",
       "    </tr>\n",
       "    <tr>\n",
       "      <th>4</th>\n",
       "      <td>GLTP</td>\n",
       "      <td>3s0k</td>\n",
       "      <td>nilotinib</td>\n",
       "      <td>644241</td>\n",
       "      <td>nilotinib-644241</td>\n",
       "      <td>-13.2</td>\n",
       "    </tr>\n",
       "  </tbody>\n",
       "</table>\n",
       "</div>"
      ],
      "text/plain": [
       "  HGNC_symbol ProteinID    DrugName   DrugCID                 Drug    AE\n",
       "0        GLTP      3s0i   nilotinib    644241     nilotinib-644241 -13.7\n",
       "1        GLTP      4gjq  venetoclax  49846579  venetoclax-49846579 -13.4\n",
       "2        GLTP      2evs   sonidegib  24775005   sonidegib-24775005 -13.2\n",
       "3        GLTP      2evt   nilotinib    644241     nilotinib-644241 -13.2\n",
       "4        GLTP      3s0k   nilotinib    644241     nilotinib-644241 -13.2"
      ]
     },
     "execution_count": 3,
     "metadata": {},
     "output_type": "execute_result"
    }
   ],
   "source": [
    "df = pd.read_csv(database)\n",
    "df.head()"
   ]
  },
  {
   "cell_type": "code",
   "execution_count": 4,
   "metadata": {},
   "outputs": [
    {
     "data": {
      "text/plain": [
       "Index(['HGNC_symbol', 'ProteinID', 'DrugName', 'DrugCID', 'Drug', 'AE'], dtype='object')"
      ]
     },
     "execution_count": 4,
     "metadata": {},
     "output_type": "execute_result"
    }
   ],
   "source": [
    "df.columns"
   ]
  },
  {
   "cell_type": "code",
   "execution_count": 5,
   "metadata": {},
   "outputs": [
    {
     "data": {
      "text/html": [
       "<div>\n",
       "<style scoped>\n",
       "    .dataframe tbody tr th:only-of-type {\n",
       "        vertical-align: middle;\n",
       "    }\n",
       "\n",
       "    .dataframe tbody tr th {\n",
       "        vertical-align: top;\n",
       "    }\n",
       "\n",
       "    .dataframe thead th {\n",
       "        text-align: right;\n",
       "    }\n",
       "</style>\n",
       "<table border=\"1\" class=\"dataframe\">\n",
       "  <thead>\n",
       "    <tr style=\"text-align: right;\">\n",
       "      <th></th>\n",
       "      <th>AE</th>\n",
       "      <th>HGNC_symbol</th>\n",
       "      <th>DrugName</th>\n",
       "      <th>ProteinID</th>\n",
       "      <th>DrugCID</th>\n",
       "      <th>Drug</th>\n",
       "    </tr>\n",
       "  </thead>\n",
       "  <tbody>\n",
       "    <tr>\n",
       "      <th>0</th>\n",
       "      <td>-13.7</td>\n",
       "      <td>GLTP</td>\n",
       "      <td>nilotinib</td>\n",
       "      <td>3s0i</td>\n",
       "      <td>644241</td>\n",
       "      <td>nilotinib-644241</td>\n",
       "    </tr>\n",
       "    <tr>\n",
       "      <th>1</th>\n",
       "      <td>-13.4</td>\n",
       "      <td>GLTP</td>\n",
       "      <td>venetoclax</td>\n",
       "      <td>4gjq</td>\n",
       "      <td>49846579</td>\n",
       "      <td>venetoclax-49846579</td>\n",
       "    </tr>\n",
       "    <tr>\n",
       "      <th>2</th>\n",
       "      <td>-13.2</td>\n",
       "      <td>GLTP</td>\n",
       "      <td>sonidegib</td>\n",
       "      <td>2evs</td>\n",
       "      <td>24775005</td>\n",
       "      <td>sonidegib-24775005</td>\n",
       "    </tr>\n",
       "    <tr>\n",
       "      <th>3</th>\n",
       "      <td>-13.2</td>\n",
       "      <td>GLTP</td>\n",
       "      <td>nilotinib</td>\n",
       "      <td>2evt</td>\n",
       "      <td>644241</td>\n",
       "      <td>nilotinib-644241</td>\n",
       "    </tr>\n",
       "    <tr>\n",
       "      <th>4</th>\n",
       "      <td>-13.2</td>\n",
       "      <td>GLTP</td>\n",
       "      <td>nilotinib</td>\n",
       "      <td>3s0k</td>\n",
       "      <td>644241</td>\n",
       "      <td>nilotinib-644241</td>\n",
       "    </tr>\n",
       "    <tr>\n",
       "      <th>...</th>\n",
       "      <td>...</td>\n",
       "      <td>...</td>\n",
       "      <td>...</td>\n",
       "      <td>...</td>\n",
       "      <td>...</td>\n",
       "      <td>...</td>\n",
       "    </tr>\n",
       "    <tr>\n",
       "      <th>23267</th>\n",
       "      <td>-2.5</td>\n",
       "      <td>CDH3</td>\n",
       "      <td>mesna</td>\n",
       "      <td>4zmy</td>\n",
       "      <td>23662354</td>\n",
       "      <td>mesna-23662354</td>\n",
       "    </tr>\n",
       "    <tr>\n",
       "      <th>23268</th>\n",
       "      <td>-2.4</td>\n",
       "      <td>VIP</td>\n",
       "      <td>mesna</td>\n",
       "      <td>2rrh</td>\n",
       "      <td>23662354</td>\n",
       "      <td>mesna-23662354</td>\n",
       "    </tr>\n",
       "    <tr>\n",
       "      <th>23269</th>\n",
       "      <td>-2.4</td>\n",
       "      <td>VIP</td>\n",
       "      <td>mesna</td>\n",
       "      <td>2rri</td>\n",
       "      <td>23662354</td>\n",
       "      <td>mesna-23662354</td>\n",
       "    </tr>\n",
       "    <tr>\n",
       "      <th>23270</th>\n",
       "      <td>-2.4</td>\n",
       "      <td>VEGFA</td>\n",
       "      <td>mesna</td>\n",
       "      <td>4zff</td>\n",
       "      <td>23662354</td>\n",
       "      <td>mesna-23662354</td>\n",
       "    </tr>\n",
       "    <tr>\n",
       "      <th>23271</th>\n",
       "      <td>-2.3</td>\n",
       "      <td>VEGFA</td>\n",
       "      <td>mesna</td>\n",
       "      <td>4kzn</td>\n",
       "      <td>23662354</td>\n",
       "      <td>mesna-23662354</td>\n",
       "    </tr>\n",
       "  </tbody>\n",
       "</table>\n",
       "<p>23272 rows × 6 columns</p>\n",
       "</div>"
      ],
      "text/plain": [
       "         AE HGNC_symbol    DrugName ProteinID   DrugCID                 Drug\n",
       "0     -13.7        GLTP   nilotinib      3s0i    644241     nilotinib-644241\n",
       "1     -13.4        GLTP  venetoclax      4gjq  49846579  venetoclax-49846579\n",
       "2     -13.2        GLTP   sonidegib      2evs  24775005   sonidegib-24775005\n",
       "3     -13.2        GLTP   nilotinib      2evt    644241     nilotinib-644241\n",
       "4     -13.2        GLTP   nilotinib      3s0k    644241     nilotinib-644241\n",
       "...     ...         ...         ...       ...       ...                  ...\n",
       "23267  -2.5        CDH3       mesna      4zmy  23662354       mesna-23662354\n",
       "23268  -2.4         VIP       mesna      2rrh  23662354       mesna-23662354\n",
       "23269  -2.4         VIP       mesna      2rri  23662354       mesna-23662354\n",
       "23270  -2.4       VEGFA       mesna      4zff  23662354       mesna-23662354\n",
       "23271  -2.3       VEGFA       mesna      4kzn  23662354       mesna-23662354\n",
       "\n",
       "[23272 rows x 6 columns]"
      ]
     },
     "execution_count": 5,
     "metadata": {},
     "output_type": "execute_result"
    }
   ],
   "source": [
    "# use other order of columns\n",
    "df_repurposing = df[['AE', 'HGNC_symbol', 'DrugName', 'ProteinID', 'DrugCID', 'Drug']]\n",
    "df_repurposing"
   ]
  },
  {
   "cell_type": "code",
   "execution_count": null,
   "metadata": {},
   "outputs": [],
   "source": [
    "#df.to_json(r'all.json')"
   ]
  },
  {
   "cell_type": "code",
   "execution_count": 6,
   "metadata": {},
   "outputs": [
    {
     "data": {
      "text/html": [
       "\n",
       "        <iframe\n",
       "            width=\"100%\"\n",
       "            height=\"500\"\n",
       "            src=\"All_pivotTable.html\"\n",
       "            frameborder=\"0\"\n",
       "            allowfullscreen\n",
       "        ></iframe>\n",
       "        "
      ],
      "text/plain": [
       "<IPython.lib.display.IFrame at 0x274b563c908>"
      ]
     },
     "execution_count": 6,
     "metadata": {},
     "output_type": "execute_result"
    }
   ],
   "source": [
    "# export to HTML\n",
    "pivot_ui(df, rows=[\"HGNC_symbol\"], outfile_path=\"All_pivotTable.html\")"
   ]
  },
  {
   "cell_type": "markdown",
   "metadata": {},
   "source": [
    "Manually edit the resulted HTML by replacing this part:"
   ]
  },
  {
   "cell_type": "code",
   "execution_count": null,
   "metadata": {},
   "outputs": [],
   "source": [
    "<body>\n",
    "        <script type=\"text/javascript\">\n",
    "            $(function(){\n",
    "\t\t\t\n",
    "\t\t\tvar derivers = $.pivotUtilities.derivers;\n",
    "\t\t\tvar renderers = $.extend($.pivotUtilities.renderers,$.pivotUtilities.plotly_renderers);\n",
    "\t\t\t\n",
    "                if(window.location != window.parent.location)\n",
    "                    $(\"<a>\", {target:\"_blank\", href:\"\"})\n",
    "                        .text(\"[pop out]\").prependTo($(\"body\"));\n",
    "                $(\"#output\").pivotUI(\n",
    "                    $.csv.toArrays($(\"#output\").text()),\n",
    "                    $.extend({\n",
    "                        renderers: $.extend(\n",
    "                            $.pivotUtilities.renderers,\n",
    "                            $.pivotUtilities.c3_renderers,\n",
    "                            $.pivotUtilities.d3_renderers,\n",
    "                            $.pivotUtilities.export_renderers,\n",
    "                            ),\n",
    "                        hiddenAttributes: [\"\"]\n",
    "                    },\n",
    "\t\t\t\t\t\n",
    "\t\t\t\t\t{rows           : [\"Target\"],\n",
    "\t\t\t\t\t filter         : (function(r){ return r[\"Target\"] != null }),\n",
    "\t\t\t\t\t renderers: renderers,\n",
    "\t\t\t\t\t rendererName   : \"Bar Chart\",\n",
    "\t\t\t\t\t rowOrder: \"value_a_to_z\"\n",
    "\t\t\t\t\t})\n",
    "                ).show();\n",
    "             });\n",
    "        </script>\n",
    "        <div id=\"output\" style=\"display: none;\">"
   ]
  }
 ],
 "metadata": {
  "kernelspec": {
   "display_name": "Python 3",
   "language": "python",
   "name": "python3"
  },
  "language_info": {
   "codemirror_mode": {
    "name": "ipython",
    "version": 3
   },
   "file_extension": ".py",
   "mimetype": "text/x-python",
   "name": "python",
   "nbconvert_exporter": "python",
   "pygments_lexer": "ipython3",
   "version": "3.7.6"
  }
 },
 "nbformat": 4,
 "nbformat_minor": 2
}
